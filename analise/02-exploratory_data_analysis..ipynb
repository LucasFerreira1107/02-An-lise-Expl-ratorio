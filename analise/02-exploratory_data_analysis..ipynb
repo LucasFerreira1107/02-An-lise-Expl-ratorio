{
 "cells": [
  {
   "cell_type": "markdown",
   "id": "97969342-2aa9-4df5-b8d1-c39cc274c48a",
   "metadata": {},
   "source": [
    "# Análise Exploratória"
   ]
  },
  {
   "cell_type": "code",
   "execution_count": null,
   "id": "8da848b7-5179-4937-821d-e204a7249192",
   "metadata": {},
   "outputs": [],
   "source": []
  },
  {
   "cell_type": "markdown",
   "id": "e1c44ceb-b4c9-4446-a7c5-3f096449dc1d",
   "metadata": {},
   "source": [
    "## 1.Descrição dos dados"
   ]
  },
  {
   "cell_type": "code",
   "execution_count": null,
   "id": "92d79b73-2149-4b1f-bd12-21af35d0490e",
   "metadata": {},
   "outputs": [],
   "source": []
  },
  {
   "cell_type": "markdown",
   "id": "78c64877-07d3-4509-94d8-0f7e94a1b04b",
   "metadata": {},
   "source": [
    "## 2.Perguntas de partida e hipóteses"
   ]
  },
  {
   "cell_type": "code",
   "execution_count": null,
   "id": "b48a16b2-904f-4ca6-ab09-43a03b399f2b",
   "metadata": {},
   "outputs": [],
   "source": []
  },
  {
   "cell_type": "markdown",
   "id": "85b22324-81f8-4716-a989-db7442181929",
   "metadata": {},
   "source": [
    "## 3.Insights"
   ]
  },
  {
   "cell_type": "code",
   "execution_count": null,
   "id": "1b4b0223-265d-4fc0-b4ee-8da769051ae8",
   "metadata": {},
   "outputs": [],
   "source": []
  }
 ],
 "metadata": {
  "kernelspec": {
   "display_name": "Python 3 (ipykernel)",
   "language": "python",
   "name": "python3"
  },
  "language_info": {
   "codemirror_mode": {
    "name": "ipython",
    "version": 3
   },
   "file_extension": ".py",
   "mimetype": "text/x-python",
   "name": "python",
   "nbconvert_exporter": "python",
   "pygments_lexer": "ipython3",
   "version": "3.11.7"
  }
 },
 "nbformat": 4,
 "nbformat_minor": 5
}
